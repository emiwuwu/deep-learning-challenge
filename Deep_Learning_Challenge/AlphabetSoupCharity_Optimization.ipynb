{
 "cells": [
  {
   "cell_type": "markdown",
   "metadata": {},
   "source": [
    "## Preprocessing"
   ]
  },
  {
   "cell_type": "code",
   "execution_count": 1,
   "metadata": {
    "scrolled": true
   },
   "outputs": [
    {
     "name": "stdout",
     "output_type": "stream",
     "text": [
      "Using TensorFlow backend\n"
     ]
    }
   ],
   "source": [
    "# Import our dependencies\n",
    "import pandas as pd\n",
    "import numpy as np\n",
    "\n",
    "from sklearn.model_selection import train_test_split\n",
    "from sklearn.preprocessing import StandardScaler\n",
    "\n",
    "import tensorflow as tf\n",
    "from tensorflow.keras.models import Sequential\n",
    "from tensorflow.keras.activations import sigmoid, relu, tanh\n",
    "from tensorflow.keras.losses import BinaryCrossentropy\n",
    "from tensorflow.keras.optimizers.legacy import Adam\n",
    "from tensorflow.keras.callbacks import EarlyStopping\n",
    "import keras_tuner as kt"
   ]
  },
  {
   "cell_type": "code",
   "execution_count": 2,
   "metadata": {},
   "outputs": [
    {
     "data": {
      "text/html": [
       "<div>\n",
       "<style scoped>\n",
       "    .dataframe tbody tr th:only-of-type {\n",
       "        vertical-align: middle;\n",
       "    }\n",
       "\n",
       "    .dataframe tbody tr th {\n",
       "        vertical-align: top;\n",
       "    }\n",
       "\n",
       "    .dataframe thead th {\n",
       "        text-align: right;\n",
       "    }\n",
       "</style>\n",
       "<table border=\"1\" class=\"dataframe\">\n",
       "  <thead>\n",
       "    <tr style=\"text-align: right;\">\n",
       "      <th></th>\n",
       "      <th>EIN</th>\n",
       "      <th>NAME</th>\n",
       "      <th>APPLICATION_TYPE</th>\n",
       "      <th>AFFILIATION</th>\n",
       "      <th>CLASSIFICATION</th>\n",
       "      <th>USE_CASE</th>\n",
       "      <th>ORGANIZATION</th>\n",
       "      <th>STATUS</th>\n",
       "      <th>INCOME_AMT</th>\n",
       "      <th>SPECIAL_CONSIDERATIONS</th>\n",
       "      <th>ASK_AMT</th>\n",
       "      <th>IS_SUCCESSFUL</th>\n",
       "    </tr>\n",
       "  </thead>\n",
       "  <tbody>\n",
       "    <tr>\n",
       "      <th>0</th>\n",
       "      <td>10520599</td>\n",
       "      <td>BLUE KNIGHTS MOTORCYCLE CLUB</td>\n",
       "      <td>T10</td>\n",
       "      <td>Independent</td>\n",
       "      <td>C1000</td>\n",
       "      <td>ProductDev</td>\n",
       "      <td>Association</td>\n",
       "      <td>1</td>\n",
       "      <td>0</td>\n",
       "      <td>N</td>\n",
       "      <td>5000</td>\n",
       "      <td>1</td>\n",
       "    </tr>\n",
       "    <tr>\n",
       "      <th>1</th>\n",
       "      <td>10531628</td>\n",
       "      <td>AMERICAN CHESAPEAKE CLUB CHARITABLE TR</td>\n",
       "      <td>T3</td>\n",
       "      <td>Independent</td>\n",
       "      <td>C2000</td>\n",
       "      <td>Preservation</td>\n",
       "      <td>Co-operative</td>\n",
       "      <td>1</td>\n",
       "      <td>1-9999</td>\n",
       "      <td>N</td>\n",
       "      <td>108590</td>\n",
       "      <td>1</td>\n",
       "    </tr>\n",
       "    <tr>\n",
       "      <th>2</th>\n",
       "      <td>10547893</td>\n",
       "      <td>ST CLOUD PROFESSIONAL FIREFIGHTERS</td>\n",
       "      <td>T5</td>\n",
       "      <td>CompanySponsored</td>\n",
       "      <td>C3000</td>\n",
       "      <td>ProductDev</td>\n",
       "      <td>Association</td>\n",
       "      <td>1</td>\n",
       "      <td>0</td>\n",
       "      <td>N</td>\n",
       "      <td>5000</td>\n",
       "      <td>0</td>\n",
       "    </tr>\n",
       "    <tr>\n",
       "      <th>3</th>\n",
       "      <td>10553066</td>\n",
       "      <td>SOUTHSIDE ATHLETIC ASSOCIATION</td>\n",
       "      <td>T3</td>\n",
       "      <td>CompanySponsored</td>\n",
       "      <td>C2000</td>\n",
       "      <td>Preservation</td>\n",
       "      <td>Trust</td>\n",
       "      <td>1</td>\n",
       "      <td>10000-24999</td>\n",
       "      <td>N</td>\n",
       "      <td>6692</td>\n",
       "      <td>1</td>\n",
       "    </tr>\n",
       "    <tr>\n",
       "      <th>4</th>\n",
       "      <td>10556103</td>\n",
       "      <td>GENETIC RESEARCH INSTITUTE OF THE DESERT</td>\n",
       "      <td>T3</td>\n",
       "      <td>Independent</td>\n",
       "      <td>C1000</td>\n",
       "      <td>Heathcare</td>\n",
       "      <td>Trust</td>\n",
       "      <td>1</td>\n",
       "      <td>100000-499999</td>\n",
       "      <td>N</td>\n",
       "      <td>142590</td>\n",
       "      <td>1</td>\n",
       "    </tr>\n",
       "  </tbody>\n",
       "</table>\n",
       "</div>"
      ],
      "text/plain": [
       "        EIN                                      NAME APPLICATION_TYPE  \\\n",
       "0  10520599              BLUE KNIGHTS MOTORCYCLE CLUB              T10   \n",
       "1  10531628    AMERICAN CHESAPEAKE CLUB CHARITABLE TR               T3   \n",
       "2  10547893        ST CLOUD PROFESSIONAL FIREFIGHTERS               T5   \n",
       "3  10553066            SOUTHSIDE ATHLETIC ASSOCIATION               T3   \n",
       "4  10556103  GENETIC RESEARCH INSTITUTE OF THE DESERT               T3   \n",
       "\n",
       "        AFFILIATION CLASSIFICATION      USE_CASE  ORGANIZATION  STATUS  \\\n",
       "0       Independent          C1000    ProductDev   Association       1   \n",
       "1       Independent          C2000  Preservation  Co-operative       1   \n",
       "2  CompanySponsored          C3000    ProductDev   Association       1   \n",
       "3  CompanySponsored          C2000  Preservation         Trust       1   \n",
       "4       Independent          C1000     Heathcare         Trust       1   \n",
       "\n",
       "      INCOME_AMT SPECIAL_CONSIDERATIONS  ASK_AMT  IS_SUCCESSFUL  \n",
       "0              0                      N     5000              1  \n",
       "1         1-9999                      N   108590              1  \n",
       "2              0                      N     5000              0  \n",
       "3    10000-24999                      N     6692              1  \n",
       "4  100000-499999                      N   142590              1  "
      ]
     },
     "execution_count": 2,
     "metadata": {},
     "output_type": "execute_result"
    }
   ],
   "source": [
    "#  Import and read the charity_data.csv.\n",
    "application_df = pd.read_csv(\"https://static.bc-edx.com/data/dl-1-2/m21/lms/starter/charity_data.csv\")\n",
    "application_df.head()"
   ]
  },
  {
   "cell_type": "code",
   "execution_count": 3,
   "metadata": {},
   "outputs": [],
   "source": [
    "# Drop the non-beneficial ID columns, 'EIN' and 'NAME'.\n",
    "application_df= application_df.drop(['EIN','NAME'], axis=1)"
   ]
  },
  {
   "cell_type": "code",
   "execution_count": 4,
   "metadata": {},
   "outputs": [
    {
     "data": {
      "text/plain": [
       "APPLICATION_TYPE            17\n",
       "AFFILIATION                  6\n",
       "CLASSIFICATION              71\n",
       "USE_CASE                     5\n",
       "ORGANIZATION                 4\n",
       "STATUS                       2\n",
       "INCOME_AMT                   9\n",
       "SPECIAL_CONSIDERATIONS       2\n",
       "ASK_AMT                   8747\n",
       "IS_SUCCESSFUL                2\n",
       "dtype: int64"
      ]
     },
     "execution_count": 4,
     "metadata": {},
     "output_type": "execute_result"
    }
   ],
   "source": [
    "# Determine the number of unique values in each column.\n",
    "application_df.nunique()"
   ]
  },
  {
   "cell_type": "code",
   "execution_count": 5,
   "metadata": {},
   "outputs": [
    {
     "data": {
      "text/plain": [
       "T3     27037\n",
       "T4      1542\n",
       "T6      1216\n",
       "T5      1173\n",
       "T19     1065\n",
       "T8       737\n",
       "T7       725\n",
       "T10      528\n",
       "T9       156\n",
       "T13       66\n",
       "T12       27\n",
       "T2        16\n",
       "T25        3\n",
       "T14        3\n",
       "T29        2\n",
       "T15        2\n",
       "T17        1\n",
       "Name: APPLICATION_TYPE, dtype: int64"
      ]
     },
     "execution_count": 5,
     "metadata": {},
     "output_type": "execute_result"
    }
   ],
   "source": [
    "# Look at APPLICATION_TYPE value counts for binning\n",
    "app_counts= application_df['APPLICATION_TYPE'].value_counts()\n",
    "app_counts"
   ]
  },
  {
   "cell_type": "code",
   "execution_count": 6,
   "metadata": {},
   "outputs": [
    {
     "data": {
      "text/plain": [
       "T3       27037\n",
       "Other     2266\n",
       "T4        1542\n",
       "T6        1216\n",
       "T5        1173\n",
       "T19       1065\n",
       "Name: APPLICATION_TYPE, dtype: int64"
      ]
     },
     "execution_count": 6,
     "metadata": {},
     "output_type": "execute_result"
    }
   ],
   "source": [
    "# Choose a cutoff value and create a list of application types to be replaced\n",
    "# use the variable name `application_types_to_replace`\n",
    "app_cutoff= 1000\n",
    "application_types_to_replace=app_counts[app_counts<app_cutoff].index.tolist()\n",
    "\n",
    "# Replace in dataframe\n",
    "for app in application_types_to_replace:\n",
    "    application_df['APPLICATION_TYPE'] = application_df['APPLICATION_TYPE'].replace(app,\"Other\")\n",
    "\n",
    "# Check to make sure binning was successful\n",
    "application_df['APPLICATION_TYPE'].value_counts()"
   ]
  },
  {
   "cell_type": "code",
   "execution_count": 7,
   "metadata": {
    "scrolled": false
   },
   "outputs": [
    {
     "data": {
      "text/plain": [
       "C1000    17326\n",
       "C2000     6074\n",
       "C1200     4837\n",
       "C3000     1918\n",
       "C2100     1883\n",
       "         ...  \n",
       "C4120        1\n",
       "C8210        1\n",
       "C2561        1\n",
       "C4500        1\n",
       "C2150        1\n",
       "Name: CLASSIFICATION, Length: 71, dtype: int64"
      ]
     },
     "execution_count": 7,
     "metadata": {},
     "output_type": "execute_result"
    }
   ],
   "source": [
    "# Look at CLASSIFICATION value counts for binning\n",
    "cls_counts= application_df['CLASSIFICATION'].value_counts()\n",
    "cls_counts"
   ]
  },
  {
   "cell_type": "code",
   "execution_count": 8,
   "metadata": {},
   "outputs": [
    {
     "data": {
      "text/plain": [
       "C1000    17326\n",
       "C2000     6074\n",
       "C1200     4837\n",
       "C3000     1918\n",
       "C2100     1883\n",
       "C7000      777\n",
       "C1700      287\n",
       "C4000      194\n",
       "C5000      116\n",
       "C1270      114\n",
       "C2700      104\n",
       "C2800       95\n",
       "C7100       75\n",
       "C1300       58\n",
       "C1280       50\n",
       "C1230       36\n",
       "C1400       34\n",
       "C7200       32\n",
       "C2300       32\n",
       "C1240       30\n",
       "C8000       20\n",
       "C7120       18\n",
       "C1500       16\n",
       "C1800       15\n",
       "C6000       15\n",
       "C1250       14\n",
       "C8200       11\n",
       "C1238       10\n",
       "C1278       10\n",
       "C1235        9\n",
       "C1237        9\n",
       "C7210        7\n",
       "C2400        6\n",
       "C1720        6\n",
       "C4100        6\n",
       "C1257        5\n",
       "C1600        5\n",
       "C1260        3\n",
       "C2710        3\n",
       "C0           3\n",
       "C3200        2\n",
       "C1234        2\n",
       "C1246        2\n",
       "C1267        2\n",
       "C1256        2\n",
       "Name: CLASSIFICATION, dtype: int64"
      ]
     },
     "execution_count": 8,
     "metadata": {},
     "output_type": "execute_result"
    }
   ],
   "source": [
    "# You may find it helpful to look at CLASSIFICATION value counts >1\n",
    "multiple_cls_counts= cls_counts[cls_counts>1]\n",
    "multiple_cls_counts"
   ]
  },
  {
   "cell_type": "code",
   "execution_count": 9,
   "metadata": {},
   "outputs": [
    {
     "data": {
      "text/plain": [
       "C1000    17326\n",
       "C2000     6074\n",
       "C1200     4837\n",
       "Other     2261\n",
       "C3000     1918\n",
       "C2100     1883\n",
       "Name: CLASSIFICATION, dtype: int64"
      ]
     },
     "execution_count": 9,
     "metadata": {},
     "output_type": "execute_result"
    }
   ],
   "source": [
    "# Choose a cutoff value and create a list of classifications to be replaced\n",
    "# use the variable name `classifications_to_replace`\n",
    "cls_cutoff= 1500\n",
    "classifications_to_replace= cls_counts[cls_counts<cls_cutoff].index.tolist()\n",
    "\n",
    "# Replace in dataframe\n",
    "for cls in classifications_to_replace:\n",
    "    application_df['CLASSIFICATION'] = application_df['CLASSIFICATION'].replace(cls,\"Other\")\n",
    "    \n",
    "# Check to make sure binning was successful\n",
    "application_df['CLASSIFICATION'].value_counts()"
   ]
  },
  {
   "cell_type": "code",
   "execution_count": 10,
   "metadata": {
    "scrolled": false
   },
   "outputs": [],
   "source": [
    "# Convert categorical data to numeric with `pd.get_dummies`\n",
    "columns = [\"APPLICATION_TYPE\", \"AFFILIATION\", \"CLASSIFICATION\", \"USE_CASE\", \"ORGANIZATION\", \"STATUS\", \"INCOME_AMT\",\"SPECIAL_CONSIDERATIONS\"]\n",
    "application_df = pd.get_dummies(application_df, columns=columns)"
   ]
  },
  {
   "cell_type": "code",
   "execution_count": 11,
   "metadata": {},
   "outputs": [],
   "source": [
    "# Split our preprocessed data into our features and target arrays\n",
    "y= application_df['IS_SUCCESSFUL']\n",
    "X= application_df.drop(['IS_SUCCESSFUL'], axis=1)\n",
    "\n",
    "# Split the preprocessed data into a training and testing dataset\n",
    "X_train,X_test, y_train,y_test= train_test_split(X,y)"
   ]
  },
  {
   "cell_type": "code",
   "execution_count": 12,
   "metadata": {},
   "outputs": [],
   "source": [
    "# Create a StandardScaler instances\n",
    "scaler = StandardScaler()\n",
    "\n",
    "# Fit the StandardScaler\n",
    "X_scaler = scaler.fit(X_train)\n",
    "\n",
    "# Scale the data\n",
    "X_train_scaled = X_scaler.transform(X_train)\n",
    "X_test_scaled = X_scaler.transform(X_test)"
   ]
  },
  {
   "cell_type": "markdown",
   "metadata": {},
   "source": [
    "## Compile, Train and Evaluate the Model"
   ]
  },
  {
   "cell_type": "code",
   "execution_count": 13,
   "metadata": {},
   "outputs": [],
   "source": [
    "def model_builder(hp):\n",
    "    model = Sequential()\n",
    "\n",
    "    hp_activation = hp.Choice('activation', values=['relu', 'tanh'])\n",
    "    hp_layer_1 = hp.Int('layer_1', min_value=1, max_value=1000, step=100)\n",
    "    hp_layer_2 = hp.Int('layer_2', min_value=1, max_value=1000, step=100)\n",
    "    hp_layer_3 = hp.Int('layer_3', min_value=1, max_value=1000, step=100) \n",
    "    hp_learning_rate = hp.Choice('learning_rate', values=[1e-2, 1e-3, 1e-4])\n",
    "\n",
    "    model.add(tf.keras.layers.Input(shape=(X_train.shape[1],))) \n",
    "    model.add(tf.keras.layers.Dense(units=hp_layer_1, activation=hp_activation))\n",
    "    model.add(tf.keras.layers.Dense(units=hp_layer_2, activation=hp_activation))\n",
    "    model.add(tf.keras.layers.Dense(units=hp_layer_3, activation=hp_activation))\n",
    "    model.add(tf.keras.layers.Dense(1, activation='sigmoid'))\n",
    "\n",
    "    model.compile(\n",
    "        optimizer=Adam(learning_rate=hp_learning_rate),\n",
    "        loss=BinaryCrossentropy(),\n",
    "        metrics=['accuracy']\n",
    "    )\n",
    "  \n",
    "    return model"
   ]
  },
  {
   "cell_type": "code",
   "execution_count": 14,
   "metadata": {
    "scrolled": false
   },
   "outputs": [
    {
     "name": "stdout",
     "output_type": "stream",
     "text": [
      "Reloading Tuner from Models/alphabet_soup_charity/tuner0.json\n"
     ]
    }
   ],
   "source": [
    "# Create a Keras Tuner Hyperband tuner to search for the best hyperparameters\n",
    "tuner = kt.Hyperband(\n",
    "    model_builder,          # The model builder function\n",
    "    objective='accuracy',   # The optimization objective is to maximize accuracy\n",
    "    max_epochs=10,          # The maximum number of epochs to train each model\n",
    "    factor=3,               # Reduction factor for the number of models in each bracket\n",
    "    directory='Models',     # Directory to store tuning results\n",
    "    project_name='alphabet_soup_charity'  # Name of the project\n",
    ")"
   ]
  },
  {
   "cell_type": "code",
   "execution_count": 15,
   "metadata": {},
   "outputs": [],
   "source": [
    "# Define an early stopping callback\n",
    "stop_early = EarlyStopping(\n",
    "    monitor='loss',   # Monitor the loss during training\n",
    "    patience=3         # Number of epochs with no improvement to wait before stopping\n",
    ")"
   ]
  },
  {
   "cell_type": "code",
   "execution_count": 16,
   "metadata": {},
   "outputs": [],
   "source": [
    "# Search for the best hyperparameters using Keras Tuner\n",
    "tuner.search(\n",
    "    X_train_scaled,     # Training features\n",
    "    y_train,            # Training labels\n",
    "    epochs= 50,         # Number of training epochs\n",
    "    callbacks=[stop_early]  # Early stopping callback to stop training if needed\n",
    ")"
   ]
  },
  {
   "cell_type": "code",
   "execution_count": 17,
   "metadata": {},
   "outputs": [],
   "source": [
    "# Retrieve the best hyperparameters found by Keras Tuner\n",
    "best_hps = tuner.get_best_hyperparameters(num_trials=1)"
   ]
  },
  {
   "cell_type": "code",
   "execution_count": 18,
   "metadata": {},
   "outputs": [
    {
     "name": "stdout",
     "output_type": "stream",
     "text": [
      "Top-1 Hyperparameters:\n",
      "Activation Function: relu\n",
      "Number of Units in Layer 1: 101\n",
      "Learning Rate: 0.001\n",
      "Number of Hidden Layers: 3\n"
     ]
    }
   ],
   "source": [
    "# Print the best hyperparameters\n",
    "for i, hyperparameters in enumerate(best_hps):\n",
    "    print(f\"Top-{i + 1} Hyperparameters:\")\n",
    "    print(f\"Activation Function: {hyperparameters['activation']}\")\n",
    "    print(f\"Number of Units in Layer 1: {hyperparameters['layer_1']}\")\n",
    "    print(f\"Learning Rate: {hyperparameters['learning_rate']}\")\n",
    "    print(f\"Number of Hidden Layers: {hyperparameters['num_hidden_layers']}\")"
   ]
  },
  {
   "cell_type": "code",
   "execution_count": 19,
   "metadata": {
    "scrolled": true
   },
   "outputs": [
    {
     "name": "stdout",
     "output_type": "stream",
     "text": [
      "Epoch 1/80\n",
      "804/804 [==============================] - 1s 1ms/step - loss: 0.5758 - accuracy: 0.7183\n",
      "Epoch 2/80\n",
      "804/804 [==============================] - 1s 1ms/step - loss: 0.5615 - accuracy: 0.7266\n",
      "Epoch 3/80\n",
      "804/804 [==============================] - 1s 1ms/step - loss: 0.5587 - accuracy: 0.7285\n",
      "Epoch 4/80\n",
      "804/804 [==============================] - 1s 1ms/step - loss: 0.5566 - accuracy: 0.7295\n",
      "Epoch 5/80\n",
      "804/804 [==============================] - 1s 1ms/step - loss: 0.5558 - accuracy: 0.7300\n",
      "Epoch 6/80\n",
      "804/804 [==============================] - 1s 1ms/step - loss: 0.5544 - accuracy: 0.7306\n",
      "Epoch 7/80\n",
      "804/804 [==============================] - 1s 1ms/step - loss: 0.5536 - accuracy: 0.7304\n",
      "Epoch 8/80\n",
      "804/804 [==============================] - 1s 1ms/step - loss: 0.5531 - accuracy: 0.7306\n",
      "Epoch 9/80\n",
      "804/804 [==============================] - 1s 1ms/step - loss: 0.5524 - accuracy: 0.7311\n",
      "Epoch 10/80\n",
      "804/804 [==============================] - 1s 1ms/step - loss: 0.5519 - accuracy: 0.7320\n",
      "Epoch 11/80\n",
      "804/804 [==============================] - 1s 1ms/step - loss: 0.5509 - accuracy: 0.7312\n",
      "Epoch 12/80\n",
      "804/804 [==============================] - 1s 1ms/step - loss: 0.5504 - accuracy: 0.7325\n",
      "Epoch 13/80\n",
      "804/804 [==============================] - 1s 1ms/step - loss: 0.5499 - accuracy: 0.7333\n",
      "Epoch 14/80\n",
      "804/804 [==============================] - 1s 1ms/step - loss: 0.5490 - accuracy: 0.7329\n",
      "Epoch 15/80\n",
      "804/804 [==============================] - 1s 1ms/step - loss: 0.5494 - accuracy: 0.7336\n",
      "Epoch 16/80\n",
      "804/804 [==============================] - 1s 1ms/step - loss: 0.5482 - accuracy: 0.7342\n",
      "Epoch 17/80\n",
      "804/804 [==============================] - 1s 1ms/step - loss: 0.5480 - accuracy: 0.7344\n",
      "Epoch 18/80\n",
      "804/804 [==============================] - 1s 1ms/step - loss: 0.5485 - accuracy: 0.7342\n",
      "Epoch 19/80\n",
      "804/804 [==============================] - 1s 1ms/step - loss: 0.5472 - accuracy: 0.7339\n",
      "Epoch 20/80\n",
      "804/804 [==============================] - 1s 1ms/step - loss: 0.5473 - accuracy: 0.7351\n",
      "Epoch 21/80\n",
      "804/804 [==============================] - 1s 1ms/step - loss: 0.5472 - accuracy: 0.7346\n",
      "Epoch 22/80\n",
      "804/804 [==============================] - 1s 1ms/step - loss: 0.5467 - accuracy: 0.7345\n",
      "Epoch 23/80\n",
      "804/804 [==============================] - 1s 1ms/step - loss: 0.5465 - accuracy: 0.7352\n",
      "Epoch 24/80\n",
      "804/804 [==============================] - 1s 1ms/step - loss: 0.5463 - accuracy: 0.7352\n",
      "Epoch 25/80\n",
      "804/804 [==============================] - 1s 1ms/step - loss: 0.5459 - accuracy: 0.7348\n",
      "Epoch 26/80\n",
      "804/804 [==============================] - 1s 1ms/step - loss: 0.5458 - accuracy: 0.7347\n",
      "Epoch 27/80\n",
      "804/804 [==============================] - 1s 1ms/step - loss: 0.5454 - accuracy: 0.7357\n",
      "Epoch 28/80\n",
      "804/804 [==============================] - 1s 1ms/step - loss: 0.5446 - accuracy: 0.7358\n",
      "Epoch 29/80\n",
      "804/804 [==============================] - 1s 1ms/step - loss: 0.5450 - accuracy: 0.7356\n",
      "Epoch 30/80\n",
      "804/804 [==============================] - 1s 1ms/step - loss: 0.5441 - accuracy: 0.7359\n",
      "Epoch 31/80\n",
      "804/804 [==============================] - 1s 1ms/step - loss: 0.5441 - accuracy: 0.7362\n",
      "Epoch 32/80\n",
      "804/804 [==============================] - 1s 1ms/step - loss: 0.5438 - accuracy: 0.7360\n",
      "Epoch 33/80\n",
      "804/804 [==============================] - 1s 1ms/step - loss: 0.5442 - accuracy: 0.7362\n",
      "Epoch 34/80\n",
      "804/804 [==============================] - 1s 1ms/step - loss: 0.5436 - accuracy: 0.7362\n",
      "Epoch 35/80\n",
      "804/804 [==============================] - 1s 1ms/step - loss: 0.5429 - accuracy: 0.7368\n",
      "Epoch 36/80\n",
      "804/804 [==============================] - 1s 1ms/step - loss: 0.5434 - accuracy: 0.7364\n",
      "Epoch 37/80\n",
      "804/804 [==============================] - 1s 1ms/step - loss: 0.5427 - accuracy: 0.7365\n",
      "Epoch 38/80\n",
      "804/804 [==============================] - 1s 1ms/step - loss: 0.5424 - accuracy: 0.7368\n",
      "Epoch 39/80\n",
      "804/804 [==============================] - 1s 1ms/step - loss: 0.5429 - accuracy: 0.7369\n",
      "Epoch 40/80\n",
      "804/804 [==============================] - 1s 1ms/step - loss: 0.5431 - accuracy: 0.7367\n",
      "Epoch 41/80\n",
      "804/804 [==============================] - 1s 1ms/step - loss: 0.5423 - accuracy: 0.7372\n",
      "Epoch 42/80\n",
      "804/804 [==============================] - 1s 1ms/step - loss: 0.5423 - accuracy: 0.7375\n",
      "Epoch 43/80\n",
      "804/804 [==============================] - 1s 1ms/step - loss: 0.5418 - accuracy: 0.7372\n",
      "Epoch 44/80\n",
      "804/804 [==============================] - 1s 1ms/step - loss: 0.5424 - accuracy: 0.7371\n",
      "Epoch 45/80\n",
      "804/804 [==============================] - 1s 1ms/step - loss: 0.5416 - accuracy: 0.7373\n",
      "Epoch 46/80\n",
      "804/804 [==============================] - 1s 1ms/step - loss: 0.5414 - accuracy: 0.7372\n",
      "Epoch 47/80\n",
      "804/804 [==============================] - 1s 1ms/step - loss: 0.5416 - accuracy: 0.7376\n",
      "Epoch 48/80\n",
      "804/804 [==============================] - 1s 1ms/step - loss: 0.5413 - accuracy: 0.7372\n",
      "Epoch 49/80\n",
      "804/804 [==============================] - 1s 1ms/step - loss: 0.5462 - accuracy: 0.7374\n",
      "Epoch 50/80\n",
      "804/804 [==============================] - 1s 1ms/step - loss: 0.5412 - accuracy: 0.7379\n",
      "Epoch 51/80\n",
      "804/804 [==============================] - 1s 1ms/step - loss: 0.5411 - accuracy: 0.7379\n",
      "Epoch 52/80\n",
      "804/804 [==============================] - 1s 1ms/step - loss: 0.5407 - accuracy: 0.7378\n",
      "Epoch 53/80\n",
      "804/804 [==============================] - 1s 1ms/step - loss: 0.5416 - accuracy: 0.7375\n",
      "Epoch 54/80\n",
      "804/804 [==============================] - 1s 1ms/step - loss: 0.5407 - accuracy: 0.7377\n",
      "Epoch 55/80\n",
      "804/804 [==============================] - 1s 1ms/step - loss: 0.5411 - accuracy: 0.7377\n",
      "Epoch 56/80\n",
      "804/804 [==============================] - 1s 1ms/step - loss: 0.5410 - accuracy: 0.7378\n",
      "Epoch 57/80\n",
      "804/804 [==============================] - 1s 1ms/step - loss: 0.5409 - accuracy: 0.7379\n"
     ]
    },
    {
     "data": {
      "text/plain": [
       "<keras.src.callbacks.History at 0x15fb82560>"
      ]
     },
     "execution_count": 19,
     "metadata": {},
     "output_type": "execute_result"
    }
   ],
   "source": [
    "# Build the neural network model using the best hyperparameters\n",
    "model = tuner.hypermodel.build(best_hps[0])\n",
    "\n",
    "# Train the model on the training data\n",
    "model.fit(X_train_scaled, y_train, epochs=80, callbacks=[stop_early])"
   ]
  },
  {
   "cell_type": "code",
   "execution_count": 20,
   "metadata": {
    "scrolled": false
   },
   "outputs": [
    {
     "name": "stdout",
     "output_type": "stream",
     "text": [
      "268/268 - 0s - loss: 0.5794 - accuracy: 0.7331 - 163ms/epoch - 610us/step\n",
      "Loss: 0.579378068447113, Accuracy: 0.7330612540245056\n"
     ]
    }
   ],
   "source": [
    "# Evaluate the model using the test data\n",
    "model_loss, model_accuracy = model.evaluate(X_test_scaled,y_test,verbose=2)\n",
    "print(f\"Loss: {model_loss}, Accuracy: {model_accuracy}\")"
   ]
  },
  {
   "cell_type": "code",
   "execution_count": 21,
   "metadata": {},
   "outputs": [
    {
     "name": "stderr",
     "output_type": "stream",
     "text": [
      "/Users/peijuwu/anaconda3/lib/python3.10/site-packages/keras/src/engine/training.py:3079: UserWarning: You are saving your model as an HDF5 file via `model.save()`. This file format is considered legacy. We recommend using instead the native Keras format, e.g. `model.save('my_model.keras')`.\n",
      "  saving_api.save_model(\n"
     ]
    }
   ],
   "source": [
    "# Export our model to HDF5 file\n",
    "# model.save(\"AlphabetSoupCharity_Optimization.keras\")\n",
    "model.save(\"Models/AlphabetSoupCharity_Optimization.h5\")"
   ]
  }
 ],
 "metadata": {
  "kernelspec": {
   "display_name": "Python 3 (ipykernel)",
   "language": "python",
   "name": "python3"
  },
  "language_info": {
   "codemirror_mode": {
    "name": "ipython",
    "version": 3
   },
   "file_extension": ".py",
   "mimetype": "text/x-python",
   "name": "python",
   "nbconvert_exporter": "python",
   "pygments_lexer": "ipython3",
   "version": "3.10.9"
  },
  "vscode": {
   "interpreter": {
    "hash": "31f2aee4e71d21fbe5cf8b01ff0e069b9275f58929596ceb00d14d90e3e16cd6"
   }
  }
 },
 "nbformat": 4,
 "nbformat_minor": 4
}
